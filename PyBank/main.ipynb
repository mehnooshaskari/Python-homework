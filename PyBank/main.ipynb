{
 "cells": [
  {
   "cell_type": "code",
   "execution_count": 1,
   "metadata": {},
   "outputs": [],
   "source": [
    "#variables\n",
    "line_num = 0\n",
    "net_total = 0\n",
    "current = 0\n",
    "total_revenue = 0\n",
    "total_month = 0\n",
    "average_change = 0\n",
    "profit_loss_change = 0\n",
    "previous_month = 0\n",
    "current_month = 0\n",
    "sum_changes = 0\n",
    "greatest_increase = 0\n",
    "greatest_decrease = 0\n",
    "revenue_change_list = []\n",
    "month_of_change = []\n",
    "months = []\n",
    "\n"
   ]
  },
  {
   "cell_type": "code",
   "execution_count": 6,
   "metadata": {},
   "outputs": [],
   "source": [
    "#Data from budge_data_csv\n",
    "from pathlib import Path\n",
    "import csv\n",
    "import os\n",
    "filepath = Path(\"../resources/budge_data.csv\")\n",
    "\n",
    "with open(filepath, newline = \"\") as csvfile:\n",
    "    csvreader = csv.reader(csvfile, delimiter= \",\")\n",
    " #print(type(csvreader))\n",
    "    header = next(csvreader)\n",
    "    line_num += 1\n",
    "    profit_loss_change=[]\n",
    "\n",
    "    for row in csvreader:\n",
    "        total_month +=  1\n",
    "        current_month = int(row [1])\n",
    "        net_total+= current_month\n",
    "        \n",
    "    #print(net_total)\n",
    "        \n",
    "        if total_month==1:\n",
    "            previous_month = current_month   \n",
    "        \n",
    "        else:\n",
    "            profit_loss_change= current_month - previous_month\n",
    "            revenue_change_list.append(profit_loss_change)\n",
    "            months.append(row[0])\n",
    "            previous_month= current_month\n",
    "    #print(revenue_change_list)\n",
    "    sum_changes = sum(revenue_change_list)\n",
    "    average_change = round((sum_changes / (total_month -1)),2)\n",
    "    greatest_increase = max(revenue_change_list)\n",
    "    greatest_increase_index = revenue_change_list.index(greatest_increase)\n",
    "    greatest_date = months[greatest_increase_index]\n",
    "    greatest_decrease= min(revenue_change_list)\n",
    "    greatest_decrease_index = revenue_change_list.index(greatest_decrease)\n",
    "    worst_date = months[greatest_decrease_index]\n",
    "    \n",
    "        "
   ]
  },
  {
   "cell_type": "code",
   "execution_count": 7,
   "metadata": {},
   "outputs": [
    {
     "name": "stdout",
     "output_type": "stream",
     "text": [
      "Financial Analysis\n",
      "---------------------\n",
      "Total Months: 258\n",
      "Total: $115147734\n",
      "Average Change: $-765.7\n",
      "Greatest Increase in Profits: Feb-2012 ($1926159)\n",
      "Greatest Decrease in Profits: Sep-2013 ($-2196167)\n"
     ]
    }
   ],
   "source": [
    "#Displaying information\n",
    "print(\"Financial Analysis\")\n",
    "print(\"---------------------\")\n",
    "print(f\"Total Months: {str(total_month)}\")\n",
    "print(f\"Total: ${str(net_total)}\")\n",
    "print(f\"Average Change: ${str(average_change)}\")\n",
    "print(f\"Greatest Increase in Profits: {greatest_date} (${str(greatest_increase)})\")\n",
    "print(f\"Greatest Decrease in Profits: {worst_date} (${str(greatest_decrease)})\")\n",
    "with open(\"File1.txt\", \"w\") as outfile:\n",
    "    outfile.write(\"Financial Analysis\\n\")\n",
    "    outfile.write(\"----------------------------\\n\")\n",
    "    outfile.write(f\"Total Months:  {total_month}\\n\")\n",
    "    outfile.write(f\"Total:  ${net_total}\\n\")\n",
    "    outfile.write(f\"Average Change:  ${average_change}\\n\")\n",
    "    outfile.write(f\"Greatest Increase in Profits:  {greatest_date} (${greatest_increase})\\n\")\n",
    "    outfile.write(f\"Greatest Decrease in Losses:  {worst_date} (${greatest_decrease})\\n\")"
   ]
  },
  {
   "cell_type": "code",
   "execution_count": null,
   "metadata": {},
   "outputs": [],
   "source": []
  }
 ],
 "metadata": {
  "kernelspec": {
   "display_name": "Python 3",
   "language": "python",
   "name": "python3"
  },
  "language_info": {
   "codemirror_mode": {
    "name": "ipython",
    "version": 3
   },
   "file_extension": ".py",
   "mimetype": "text/x-python",
   "name": "python",
   "nbconvert_exporter": "python",
   "pygments_lexer": "ipython3",
   "version": "3.8.3"
  }
 },
 "nbformat": 4,
 "nbformat_minor": 4
}
